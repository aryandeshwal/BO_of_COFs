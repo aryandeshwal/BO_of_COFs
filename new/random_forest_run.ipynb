{
 "cells": [
  {
   "cell_type": "code",
   "execution_count": 1,
   "id": "sunrise-alpha",
   "metadata": {},
   "outputs": [
    {
     "name": "stderr",
     "output_type": "stream",
     "text": [
      "WARNING:matplotlib.style.core:In /home/cokes/.local/lib/python3.6/site-packages/matplotlib/mpl-data/stylelib/_classic_test.mplstyle: \n",
      "The text.latex.preview rcparam was deprecated in Matplotlib 3.3 and will be removed two minor releases later.\n",
      "WARNING:matplotlib.style.core:In /home/cokes/.local/lib/python3.6/site-packages/matplotlib/mpl-data/stylelib/_classic_test.mplstyle: \n",
      "The mathtext.fallback_to_cm rcparam was deprecated in Matplotlib 3.3 and will be removed two minor releases later.\n",
      "WARNING:matplotlib.style.core:In /home/cokes/.local/lib/python3.6/site-packages/matplotlib/mpl-data/stylelib/_classic_test.mplstyle: Support for setting the 'mathtext.fallback_to_cm' rcParam is deprecated since 3.3 and will be removed two minor releases later; use 'mathtext.fallback : 'cm' instead.\n",
      "WARNING:matplotlib.style.core:In /home/cokes/.local/lib/python3.6/site-packages/matplotlib/mpl-data/stylelib/_classic_test.mplstyle: \n",
      "The validate_bool_maybe_none function was deprecated in Matplotlib 3.3 and will be removed two minor releases later.\n",
      "WARNING:matplotlib.style.core:In /home/cokes/.local/lib/python3.6/site-packages/matplotlib/mpl-data/stylelib/_classic_test.mplstyle: \n",
      "The savefig.jpeg_quality rcparam was deprecated in Matplotlib 3.3 and will be removed two minor releases later.\n",
      "WARNING:matplotlib.style.core:In /home/cokes/.local/lib/python3.6/site-packages/matplotlib/mpl-data/stylelib/_classic_test.mplstyle: \n",
      "The keymap.all_axes rcparam was deprecated in Matplotlib 3.3 and will be removed two minor releases later.\n",
      "WARNING:matplotlib.style.core:In /home/cokes/.local/lib/python3.6/site-packages/matplotlib/mpl-data/stylelib/_classic_test.mplstyle: \n",
      "The animation.avconv_path rcparam was deprecated in Matplotlib 3.3 and will be removed two minor releases later.\n",
      "WARNING:matplotlib.style.core:In /home/cokes/.local/lib/python3.6/site-packages/matplotlib/mpl-data/stylelib/_classic_test.mplstyle: \n",
      "The animation.avconv_args rcparam was deprecated in Matplotlib 3.3 and will be removed two minor releases later.\n"
     ]
    }
   ],
   "source": [
    "import numpy as np\n",
    "import pickle\n",
    "import torch\n",
    "import time\n",
    "\n",
    "from sklearn.metrics import r2_score, mean_absolute_error, explained_variance_score, mean_squared_error\n",
    "from sklearn.model_selection import train_test_split\n",
    "import autosklearn.regression\n",
    "from sklearn.ensemble import RandomForestRegressor\n",
    "from sklearn.inspection import permutation_importance\n",
    "import matplotlib.pyplot as plt\n",
    "plt.matplotlib.style.use(\"https://gist.githubusercontent.com/JonnyCBB/c464d302fefce4722fe6cf5f461114ea/raw/64a78942d3f7b4b5054902f2cee84213eaff872f/matplotlibrc\")\n",
    "cool_colors = ['#00BEFF', '#D4CA3A', '#FF6DAE', '#67E1B5', '#EBACFA', '#9E9E9E', '#F1988E', '#5DB15A', '#E28544', '#52B8AA']\n",
    "cool_colors = ['C0', 'C1', 'C2', 'C3', 'C4', 'C5', 'C6', 'C7']\n",
    "\n",
    "plt.rcParams.update({'font.size': 14})"
   ]
  },
  {
   "cell_type": "code",
   "execution_count": 2,
   "id": "developing-nepal",
   "metadata": {},
   "outputs": [
    {
     "name": "stdout",
     "output_type": "stream",
     "text": [
      "shape of X:  (69839, 12)\n"
     ]
    },
    {
     "data": {
      "text/plain": [
       "69839"
      ]
     },
     "execution_count": 2,
     "metadata": {},
     "output_type": "execute_result"
    }
   ],
   "source": [
    "X = pickle.load(open('inputs_and_outputs.pkl', 'rb'))['X']\n",
    "print(\"shape of X: \", np.shape(X))\n",
    "y = pickle.load(open('inputs_and_outputs.pkl', 'rb'))['y']\n",
    "features = pickle.load(open('inputs_and_outputs.pkl', 'rb'))['features'] # feature names\n",
    "nb_data = np.size(y)\n",
    "nb_data"
   ]
  },
  {
   "cell_type": "code",
   "execution_count": null,
   "id": "serious-separation",
   "metadata": {},
   "outputs": [],
   "source": [
    "def diverse_train_test_split(X, train_size):\n",
    "    ids_train = [np.random.randint(0, nb_data)] # initialize with one random point; pick others in a max diverse fashion\n",
    "    # select remaining training points\n",
    "    for j in range(train_size - 1):\n",
    "        # for each point in data set, compute its min distance to training set\n",
    "        distances_to_train_set = np.linalg.norm(X - X[ids_train, None, :], axis=2)\n",
    "        assert np.shape(distances_to_train_set) == (len(ids_train), nb_data)\n",
    "        min_distances_to_a_training_pt = np.min(distances_to_train_set, axis=0)\n",
    "        assert np.size(min_distances_to_a_training_pt) == nb_data\n",
    "        # select point with max min distance to train set (Furthest from train set)\n",
    "        ids_train.append(np.argmax(min_distances_to_a_training_pt))\n",
    "    assert np.size(np.unique(ids_train)) == train_size\n",
    "    ids_test = [i for i in range(nb_data) if not i in ids_train]\n",
    "    assert np.size(np.unique(ids_test)) == nb_data - train_size\n",
    "    return np.array(ids_train), np.array(ids_test)"
   ]
  },
  {
   "cell_type": "code",
   "execution_count": null,
   "id": "advisory-future",
   "metadata": {},
   "outputs": [],
   "source": [
    "diversify_training = True"
   ]
  },
  {
   "cell_type": "code",
   "execution_count": null,
   "id": "intense-musical",
   "metadata": {},
   "outputs": [],
   "source": [
    "def rf_run(nb_training_data, nb_acquire):\n",
    "    if diversify_training:\n",
    "        print(\"\\tdiverse RF run\")\n",
    "    else:\n",
    "        print(\"\\tRF run\")\n",
    "    print(\"\\teval budget\", nb_training_data + nb_acquire, \"=\", nb_training_data, \"training data and\", nb_acquire, \"acquired.\")\n",
    "    # test/train split\n",
    "    if diversify_training:\n",
    "        ids_train, ids_test = diverse_train_test_split(X, nb_training_data)\n",
    "    else:\n",
    "        ids_train, ids_test = train_test_split(np.arange(nb_data), train_size=nb_training_data)\n",
    "    \n",
    "    X_train = X[ids_train, :]\n",
    "    y_train = y[ids_train]\n",
    "    \n",
    "    X_test  = X[ids_test, :]\n",
    "    \n",
    "    # train random forest on training data\n",
    "    rf = RandomForestRegressor()\n",
    "    rf.fit(X_train, y_train)\n",
    "\n",
    "    # hv random forest make predictions on test data\n",
    "    y_pred = rf.predict(X_test)\n",
    "\n",
    "    # rank the test predictions\n",
    "    ids_test_ranked = np.flip(np.argsort(y_pred))\n",
    "    \n",
    "    # acquire the COFs in the test set with highest predicted property\n",
    "    ids_acquire = ids_test[ids_test_ranked[:nb_acquire]]\n",
    "\n",
    "    # return the acquired COFs but also the trained COFs which count.\n",
    "    ids_acquire_incld_training = np.concatenate((ids_acquire, ids_train))\n",
    "    \n",
    "    assert np.size(np.unique(ids_acquire_incld_training)) == nb_training_data + nb_acquire\n",
    "    \n",
    "    print(\"\\tmax y acquired = \", np.max(y[ids_acquire_incld_training]))\n",
    "    return ids_acquire_incld_training"
   ]
  },
  {
   "cell_type": "code",
   "execution_count": null,
   "id": "dominican-sugar",
   "metadata": {},
   "outputs": [],
   "source": [
    "rf_res = dict()\n",
    "rf_res['nb_runs']          = 100\n",
    "rf_res['nb_evals_budgets'] = [20 * i for i in range(1, 13)] + [250]\n",
    "print(\"eval budgets: \", rf_res['nb_evals_budgets'])\n",
    "rf_res['ids_acquired']     = [[] for b in rf_res['nb_evals_budgets']]\n",
    "for b in range(len(rf_res['nb_evals_budgets'])):\n",
    "    nb_evals_budget = rf_res['nb_evals_budgets'][b]\n",
    "    print(\"budget for evals:\", nb_evals_budget)\n",
    "    # decide how to spend the evals budget here. say 50/50\n",
    "    nb_training_data = nb_evals_budget // 2\n",
    "    nb_acquire = nb_evals_budget // 2\n",
    "    assert nb_training_data + nb_acquire == nb_evals_budget\n",
    "    for r in range(rf_res['nb_runs']):\n",
    "        print(\"\\trun\", r)\n",
    "        ids_acquired = rf_run(nb_training_data, nb_acquire)\n",
    "        rf_res['ids_acquired'][b].append(ids_acquired)\n",
    "\n",
    "if not diversify_training:\n",
    "    with open('rf_results.pkl', 'wb') as file:\n",
    "        pickle.dump(rf_res, file)\n",
    "else:\n",
    "    with open('rf_div_results.pkl', 'wb') as file:\n",
    "        pickle.dump(rf_res, file)"
   ]
  }
 ],
 "metadata": {
  "kernelspec": {
   "display_name": "Python 3",
   "language": "python",
   "name": "python3"
  },
  "language_info": {
   "codemirror_mode": {
    "name": "ipython",
    "version": 3
   },
   "file_extension": ".py",
   "mimetype": "text/x-python",
   "name": "python",
   "nbconvert_exporter": "python",
   "pygments_lexer": "ipython3",
   "version": "3.6.9"
  }
 },
 "nbformat": 4,
 "nbformat_minor": 5
}
