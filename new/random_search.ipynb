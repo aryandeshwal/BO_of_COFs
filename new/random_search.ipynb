{
 "cells": [
  {
   "cell_type": "markdown",
   "id": "valued-collectible",
   "metadata": {},
   "source": [
    "# random search"
   ]
  },
  {
   "cell_type": "code",
   "execution_count": 1,
   "id": "controlled-blame",
   "metadata": {},
   "outputs": [],
   "source": [
    "import numpy as np\n",
    "import pickle\n",
    "import torch\n",
    "import time"
   ]
  },
  {
   "cell_type": "markdown",
   "id": "grave-civilian",
   "metadata": {},
   "source": [
    "load data from `prepare_Xy.ipynb`."
   ]
  },
  {
   "cell_type": "code",
   "execution_count": 2,
   "id": "adjacent-blowing",
   "metadata": {},
   "outputs": [
    {
     "name": "stdout",
     "output_type": "stream",
     "text": [
      "shape of X: (500, 12)\n",
      "shape of y: (500,)\n",
      "# COFs: 500\n",
      "# runs: 50\n"
     ]
    }
   ],
   "source": [
    "X = pickle.load(open('inputs_and_outputs.pkl', 'rb'))['X']\n",
    "print(\"shape of X:\", np.shape(X))\n",
    "\n",
    "y = pickle.load(open('inputs_and_outputs.pkl', 'rb'))['y']\n",
    "print(\"shape of y:\", np.shape(y))\n",
    "\n",
    "nb_COFs = pickle.load(open('inputs_and_outputs.pkl', 'rb'))['nb_COFs']\n",
    "print(\"# COFs:\", nb_COFs)\n",
    "\n",
    "nb_runs = pickle.load(open('inputs_and_outputs.pkl', 'rb'))['nb_runs']\n",
    "print(\"# runs:\", nb_runs)"
   ]
  },
  {
   "cell_type": "markdown",
   "id": "recorded-paper",
   "metadata": {},
   "source": [
    "at each iteration, acquire a COF at random from the un-acquired set (hence, sample _without_ replacement)."
   ]
  },
  {
   "cell_type": "code",
   "execution_count": 3,
   "id": "seeing-investigator",
   "metadata": {},
   "outputs": [],
   "source": [
    "rs_res = dict()\n",
    "rs_res['nb_iterations']    = 250\n",
    "rs_res['ids_acquired']     = []\n",
    "for r in range(nb_runs):\n",
    "    ids_acquired = np.random.choice(range(nb_COFs), replace=False, size=rs_res['nb_iterations'])\n",
    "    rs_res['ids_acquired'].append(ids_acquired)"
   ]
  },
  {
   "cell_type": "markdown",
   "id": "independent-insider",
   "metadata": {},
   "source": [
    "write results to file"
   ]
  },
  {
   "cell_type": "code",
   "execution_count": 4,
   "id": "opponent-subject",
   "metadata": {},
   "outputs": [],
   "source": [
    "with open('rs_results.pkl', 'wb') as file:\n",
    "    pickle.dump(rs_res, file)"
   ]
  }
 ],
 "metadata": {
  "kernelspec": {
   "display_name": "Python 3",
   "language": "python",
   "name": "python3"
  },
  "language_info": {
   "codemirror_mode": {
    "name": "ipython",
    "version": 3
   },
   "file_extension": ".py",
   "mimetype": "text/x-python",
   "name": "python",
   "nbconvert_exporter": "python",
   "pygments_lexer": "ipython3",
   "version": "3.6.9"
  }
 },
 "nbformat": 4,
 "nbformat_minor": 5
}
