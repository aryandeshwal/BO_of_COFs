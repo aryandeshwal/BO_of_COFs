{
 "cells": [
  {
   "cell_type": "markdown",
   "id": "fifty-decision",
   "metadata": {},
   "source": [
    "# random search"
   ]
  },
  {
   "cell_type": "code",
   "execution_count": 1,
   "id": "under-mills",
   "metadata": {},
   "outputs": [],
   "source": [
    "import numpy as np\n",
    "import pickle\n",
    "import torch\n",
    "import time"
   ]
  },
  {
   "cell_type": "markdown",
   "id": "legitimate-photographer",
   "metadata": {},
   "source": [
    "load data from `prepare_Xy.ipynb`."
   ]
  },
  {
   "cell_type": "code",
   "execution_count": 2,
   "id": "korean-bibliography",
   "metadata": {},
   "outputs": [
    {
     "name": "stdout",
     "output_type": "stream",
     "text": [
      "shape of X: (69839, 12)\n",
      "shape of y: (69839,)\n",
      "# COFs: 69839\n",
      "# runs: 100\n",
      "# iterations: 250\n"
     ]
    }
   ],
   "source": [
    "X = pickle.load(open('inputs_and_outputs.pkl', 'rb'))['X']\n",
    "print(\"shape of X:\", np.shape(X))\n",
    "\n",
    "y = pickle.load(open('inputs_and_outputs.pkl', 'rb'))['y']\n",
    "print(\"shape of y:\", np.shape(y))\n",
    "\n",
    "nb_COFs = pickle.load(open('inputs_and_outputs.pkl', 'rb'))['nb_COFs']\n",
    "print(\"# COFs:\", nb_COFs)\n",
    "\n",
    "nb_runs = pickle.load(open('inputs_and_outputs.pkl', 'rb'))['nb_runs']\n",
    "print(\"# runs:\", nb_runs)\n",
    "\n",
    "nb_iterations = pickle.load(open('inputs_and_outputs.pkl', 'rb'))['nb_iterations']\n",
    "print(\"# iterations:\", nb_iterations)"
   ]
  },
  {
   "cell_type": "markdown",
   "id": "removed-martial",
   "metadata": {},
   "source": [
    "at each iteration, acquire a COF at random from the un-acquired set (hence, sample _without_ replacement)."
   ]
  },
  {
   "cell_type": "code",
   "execution_count": 3,
   "id": "advanced-bhutan",
   "metadata": {},
   "outputs": [],
   "source": [
    "rs_res = dict()\n",
    "rs_res['ids_acquired']     = []\n",
    "for r in range(nb_runs):\n",
    "    ids_acquired = np.random.choice(range(nb_COFs), replace=False, size=nb_iterations)\n",
    "    rs_res['ids_acquired'].append(ids_acquired)"
   ]
  },
  {
   "cell_type": "markdown",
   "id": "italian-telling",
   "metadata": {},
   "source": [
    "write results to file"
   ]
  },
  {
   "cell_type": "code",
   "execution_count": 4,
   "id": "dying-processor",
   "metadata": {},
   "outputs": [],
   "source": [
    "with open('rs_results.pkl', 'wb') as file:\n",
    "    pickle.dump(rs_res, file)"
   ]
  }
 ],
 "metadata": {
  "kernelspec": {
   "display_name": "Python 3",
   "language": "python",
   "name": "python3"
  },
  "language_info": {
   "codemirror_mode": {
    "name": "ipython",
    "version": 3
   },
   "file_extension": ".py",
   "mimetype": "text/x-python",
   "name": "python",
   "nbconvert_exporter": "python",
   "pygments_lexer": "ipython3",
   "version": "3.6.9"
  }
 },
 "nbformat": 4,
 "nbformat_minor": 5
}
